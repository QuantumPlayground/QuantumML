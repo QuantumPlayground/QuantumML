{
 "cells": [
  {
   "cell_type": "markdown",
   "metadata": {},
   "source": [
    "# CHAPTER 1\n",
    "## Section 1.1: Quantum Bits"
   ]
  },
  {
   "cell_type": "markdown",
   "metadata": {},
   "source": [
    "### Dirac Notation\n",
    "Qubits are the fundamental units of quantum information. Unlike classical bits ($0$ or $1$), qubits can be in a superposition of both 0 and 1.\n",
    "\n",
    "To represent the quantum state, we use Dirac notation: $|0\\rangle = \\begin{bmatrix} 1 \\\\ 0 \\end{bmatrix}, \\quad |1\\rangle = \\begin{bmatrix} 0 \\\\ 1 \\end{bmatrix}$.\n",
    "\n",
    "This is represented as $|\\psi\\rangle = α|0\\rangle + β|1\\rangle$, where α and β are complex numbers that satisfy $|\\alpha |^2 + | \\beta |^2 = 1$.\n",
    "\n",
    "Qubits can also become entangled, meaning the state of one qubit is dependent on another, even at a distance. Measuring a qubit collapses its superposition to either $0$ or $1$, with probabilities given by $| \\alpha |^2$ and $| \\beta |^2$, respectively.\n",
    "\n",
    "For $|\\psi\\rangle$, the states $|0\\rangle$ and $|1\\rangle$ form an orthonormal basis. $|\\psi\\rangle$ can be expressed as: $|\\psi\\rangle = \\begin{bmatrix} \\alpha \\\\ \\beta \\end{bmatrix}$.\n",
    "\n",
    "The linear coefficients $\\alpha$ and $\\beta$ are called probability amplitudes."
   ]
  },
  {
   "cell_type": "markdown",
   "metadata": {},
   "source": [
    "### Probability Rules\n",
    "\n",
    "Quantum states are mutually exclusive: observing one state means that you cannot observe any other state.\n",
    "\n",
    "Quantum states are exhaustive: making an observation guarantees that you will observe a quantum state.\n",
    "\n",
    "Since quantum states are mutually exclusive and exhaustive, the sum of their probabilities must add to 1."
   ]
  },
  {
   "cell_type": "markdown",
   "metadata": {},
   "source": [
    "### Real-World Qubits\n",
    "\n",
    "Qubits can be manifested and practically applied in many ways and there are several different quantum computer design methodologies.\n",
    "\n",
    "We can use an electron as a qubit, for example, encoding data based on its energy state (ground/excited).\n",
    "\n",
    "One can also use photon polarizations or nuclear spin in a magnetic field to create cubits."
   ]
  },
  {
   "cell_type": "markdown",
   "metadata": {},
   "source": []
  }
 ],
 "metadata": {
  "language_info": {
   "name": "python"
  },
  "orig_nbformat": 4
 },
 "nbformat": 4,
 "nbformat_minor": 2
}
